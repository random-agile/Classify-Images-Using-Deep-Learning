{
 "cells": [
  {
   "cell_type": "code",
   "execution_count": 2,
   "id": "24a98b2d",
   "metadata": {},
   "outputs": [],
   "source": [
    "import os\n",
    "import re\n",
    "import cv2\n",
    "import numpy as np\n",
    "from tensorflow.keras.preprocessing.image import ImageDataGenerator\n",
    "import tensorflow as tf\n",
    "from tensorflow.keras import layers\n",
    "import matplotlib.pyplot as plt\n",
    "import PIL\n",
    "from tensorflow import keras\n",
    "from tensorflow.keras.models import Sequential\n",
    "import pathlib\n",
    "from sklearn.model_selection import train_test_split\n",
    "from sklearn.preprocessing import LabelEncoder"
   ]
  },
  {
   "cell_type": "code",
   "execution_count": 3,
   "id": "385b9087",
   "metadata": {},
   "outputs": [],
   "source": [
    "# Chemin vers le dossier principal contenant les images par races\n",
    "dataset_dir = \"C:/Users/Oliver/Desktop/Classify-Images-Using-Deep-Learning/Images\"\n",
    "\n",
    "# Liste des noms des sous-dossiers (races)\n",
    "subdirs = os.listdir(dataset_dir)\n",
    "\n",
    "# Dictionnaire pour stocker les images prétraitées (y compris l'augmentation) par race\n",
    "preprocessed_images_by_race = {}\n",
    "preprocessed_images_by_race_clean = {}\n",
    "preprocessed_images_by_race_resized = {}\n",
    "preprocessed_images_by_race_gray = {}\n",
    "preprocessed_images_by_race_equalized = {}\n",
    "preprocessed_images_by_race_normalized = {}\n",
    "preprocessed_images_by_race_whitened = {}\n",
    "preprocessed_images_by_filename_augmented = {}\n",
    "\n",
    "# listes pour stocker les différentes images afin de comprendre les différentes\n",
    "# étapes du processus de traitement des images\n",
    "images = []\n",
    "clean_images_list = []\n",
    "resized_images_list = []\n",
    "gray_images_list = []\n",
    "equalized_images_list = []\n",
    "normalized_images_list = []\n",
    "whitenened_images_list = []\n",
    "augmented_images = []"
   ]
  },
  {
   "cell_type": "markdown",
   "id": "dec7c339",
   "metadata": {},
   "source": [
    "# Traitement des images"
   ]
  },
  {
   "cell_type": "code",
   "execution_count": 4,
   "id": "c7774dd7",
   "metadata": {},
   "outputs": [],
   "source": [
    "# Paramètres de data augmentation\n",
    "datagen = ImageDataGenerator(\n",
    "    rotation_range=20,\n",
    "    width_shift_range=0.2,\n",
    "    height_shift_range=0.2,\n",
    "    shear_range=0.2,\n",
    "    zoom_range=0.2,\n",
    "    horizontal_flip=True,\n",
    "    fill_mode='nearest'\n",
    ")"
   ]
  },
  {
   "cell_type": "code",
   "execution_count": 5,
   "id": "198a48da",
   "metadata": {},
   "outputs": [],
   "source": [
    "# Nombre d'images augmentées par image d'origine\n",
    "num_augmented_images = 4"
   ]
  },
  {
   "cell_type": "code",
   "execution_count": 6,
   "id": "e541530f",
   "metadata": {},
   "outputs": [],
   "source": [
    "# Taille de redimensionnement des images\n",
    "new_size = (256, 256)"
   ]
  },
  {
   "cell_type": "code",
   "execution_count": 10,
   "id": "9c9866cc",
   "metadata": {},
   "outputs": [],
   "source": [
    "# Chemin vers le dossier contenant les sous-dossiers d'images\n",
    "dossier_principal = \"C:/Users/Oliver/Desktop/Classify-Images-Using-Deep-Learning/Test\"\n",
    "\n",
    "# Chemin vers le dossier de sauvegarde des images prétraitées\n",
    "dossier_sauvegarde = \"C:/Users/Oliver/Desktop/Classify-Images-Using-Deep-Learning/Save\"\n",
    "\n",
    "# Parcourir tous les sous-dossiers\n",
    "for sous_dossier in os.listdir(dossier_principal):\n",
    "    # Chemin vers le sous-dossier actuel\n",
    "    chemin_sous_dossier = os.path.join(dossier_principal, sous_dossier)\n",
    "    \n",
    "    # Créer un sous-dossier dans le dossier de sauvegarde\n",
    "    nouveau_sous_dossier = os.path.join(dossier_sauvegarde, sous_dossier)\n",
    "    os.makedirs(nouveau_sous_dossier, exist_ok=True)\n",
    "    \n",
    "    # Parcourir toutes les images du sous-dossier\n",
    "    for image_file in os.listdir(chemin_sous_dossier):\n",
    "        # Chemin vers l'image originale\n",
    "        chemin_image = os.path.join(chemin_sous_dossier, image_file)\n",
    "        \n",
    "        # Lire l'image\n",
    "        image = cv2.imread(chemin_image)\n",
    "        \n",
    "        # Redimensionner l'image\n",
    "        image_resized = cv2.resize(image, new_size)\n",
    "               \n",
    "        # Convertir en échelle de gris\n",
    "        gray_image = cv2.cvtColor(image_resized, cv2.COLOR_BGR2GRAY)\n",
    "                \n",
    "        # Equalisation d'histogramme\n",
    "        equalized_image = cv2.equalizeHist(gray_image)\n",
    "                \n",
    "        # Normalisation\n",
    "        normalized_image = equalized_image / 255.0\n",
    "               \n",
    "        # Whitening\n",
    "        mean = np.mean(normalized_image)\n",
    "        std = np.std(normalized_image)\n",
    "        whitened_image = (normalized_image - mean) / std\n",
    "                \n",
    "        # Ajuster la forme de l'image pour l'augmentation des données\n",
    "        whitened_image = np.expand_dims(whitened_image, axis=2)\n",
    "                \n",
    "        # Appliquer l'augmentation de données\n",
    "        for _ in range(num_augmented_images):\n",
    "            augmented_image = datagen.random_transform(whitened_image)\n",
    "            augmented_images.append(augmented_image)\n",
    "            preprocessed_images_by_filename_augmented[image_file] = [image] + augmented_images\n",
    "            images.extend(augmented_images)\n",
    "        \n",
    "        # Chemin vers le nouvel emplacement de l'image prétraitée\n",
    "        chemin_nouvelle_image = os.path.join(nouveau_sous_dossier, image_file)\n",
    "        \n",
    "        # Sauvegarder l'image prétraitée\n",
    "        cv2.imwrite(chemin_nouvelle_image, image)"
   ]
  },
  {
   "cell_type": "code",
   "execution_count": null,
   "id": "ae398697",
   "metadata": {},
   "outputs": [],
   "source": []
  }
 ],
 "metadata": {
  "kernelspec": {
   "display_name": "Python 3 (ipykernel)",
   "language": "python",
   "name": "python3"
  },
  "language_info": {
   "codemirror_mode": {
    "name": "ipython",
    "version": 3
   },
   "file_extension": ".py",
   "mimetype": "text/x-python",
   "name": "python",
   "nbconvert_exporter": "python",
   "pygments_lexer": "ipython3",
   "version": "3.9.13"
  }
 },
 "nbformat": 4,
 "nbformat_minor": 5
}
