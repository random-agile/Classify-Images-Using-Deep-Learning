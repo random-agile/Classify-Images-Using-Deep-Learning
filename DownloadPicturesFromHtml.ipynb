{
 "cells": [
  {
   "cell_type": "code",
   "execution_count": 4,
   "id": "efda991a",
   "metadata": {},
   "outputs": [
    {
     "name": "stdout",
     "output_type": "stream",
     "text": [
      "Toutes les images ont été téléchargées avec succès.\n"
     ]
    }
   ],
   "source": [
    "import os\n",
    "import requests\n",
    "from bs4 import BeautifulSoup\n",
    "from urllib.parse import urljoin\n",
    "\n",
    "# URL de la page contenant les liens des images\n",
    "url = \"http://vision.stanford.edu/aditya86/ImageNetDogs/n02110627.html\"\n",
    "\n",
    "# Dossier de destination pour enregistrer les images\n",
    "dossier_destination = \"C:/Users/omira/Desktop/Classify-Images-Using-Deep-Learning/Images\"\n",
    "\n",
    "# Création du dossier de destination s'il n'existe pas\n",
    "if not os.path.exists(dossier_destination):\n",
    "    os.makedirs(dossier_destination)\n",
    "\n",
    "# Téléchargement de la page\n",
    "response = requests.get(url)\n",
    "if response.status_code == 200:\n",
    "    # Analyse du contenu HTML de la page\n",
    "    soup = BeautifulSoup(response.content, \"html.parser\")\n",
    "\n",
    "    # Recherche de tous les liens d'images sur la page\n",
    "    image_links = soup.find_all(\"a\")\n",
    "\n",
    "    # Téléchargement des images\n",
    "    for link in image_links:\n",
    "        image_url = link[\"href\"]\n",
    "        if image_url.endswith((\".jpg\", \".jpeg\", \".png\", \".gif\")):\n",
    "            # Résolution de l'URL relative en URL absolue\n",
    "            absolute_url = urljoin(url, image_url)\n",
    "\n",
    "            # Téléchargement de l'image et enregistrement dans le dossier de destination\n",
    "            image_response = requests.get(absolute_url)\n",
    "            if image_response.status_code == 200:\n",
    "                nom_fichier = os.path.join(dossier_destination, os.path.basename(absolute_url))\n",
    "                with open(nom_fichier, \"wb\") as fichier:\n",
    "                    fichier.write(image_response.content)\n",
    "\n",
    "    print(\"Toutes les images ont été téléchargées avec succès.\")\n",
    "else:\n",
    "    print(\"Échec du téléchargement de la page.\")"
   ]
  }
 ],
 "metadata": {
  "kernelspec": {
   "display_name": "Python 3 (ipykernel)",
   "language": "python",
   "name": "python3"
  },
  "language_info": {
   "codemirror_mode": {
    "name": "ipython",
    "version": 3
   },
   "file_extension": ".py",
   "mimetype": "text/x-python",
   "name": "python",
   "nbconvert_exporter": "python",
   "pygments_lexer": "ipython3",
   "version": "3.10.9"
  }
 },
 "nbformat": 4,
 "nbformat_minor": 5
}
